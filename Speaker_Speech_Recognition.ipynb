{
  "nbformat": 4,
  "nbformat_minor": 0,
  "metadata": {
    "kernelspec": {
      "display_name": "Python 3",
      "language": "python",
      "name": "python3"
    },
    "language_info": {
      "codemirror_mode": {
        "name": "ipython",
        "version": 3
      },
      "file_extension": ".py",
      "mimetype": "text/x-python",
      "name": "python",
      "nbconvert_exporter": "python",
      "pygments_lexer": "ipython3",
      "version": "3.7.3"
    },
    "colab": {
      "name": "Speaker_Speech_Recognition.ipynb",
      "provenance": [],
      "include_colab_link": true
    }
  },
  "cells": [
    {
      "cell_type": "markdown",
      "metadata": {
        "id": "view-in-github",
        "colab_type": "text"
      },
      "source": [
        "<a href=\"https://colab.research.google.com/github/rbondili/POC_Speech_Recognition/blob/master/Speaker_Speech_Recognition.ipynb\" target=\"_parent\"><img src=\"https://colab.research.google.com/assets/colab-badge.svg\" alt=\"Open In Colab\"/></a>"
      ]
    },
    {
      "cell_type": "markdown",
      "metadata": {
        "id": "J0_X7rBQg_4C",
        "colab_type": "text"
      },
      "source": [
        "<h1 align=center><font size=5>Speech Recognition</font></h1>"
      ]
    },
    {
      "cell_type": "markdown",
      "metadata": {
        "id": "K3_B1MGig_4E",
        "colab_type": "text"
      },
      "source": [
        "## Table of contents\n",
        "\n",
        "- [Objective](#obj)\n",
        "- [Data](#data)\n",
        "- [Data Preprocessing](#data_preproc)\n",
        "- [Time Domain Model](#time_model)\n",
        "- [Time-Frequency Domain Model](#time_freq_model)"
      ]
    },
    {
      "cell_type": "markdown",
      "metadata": {
        "id": "qEKmZIhgg_4G",
        "colab_type": "text"
      },
      "source": [
        "## Objective <a id='obj'></a>"
      ]
    },
    {
      "cell_type": "markdown",
      "metadata": {
        "id": "TxJQWZzVg_4H",
        "colab_type": "text"
      },
      "source": [
        "![alt text](https://)In this notebook, we will learn how to deal with audio/voice singals. Accordingly, we will build time domain and time-frequency domain models for the purpose of speech classification."
      ]
    },
    {
      "cell_type": "markdown",
      "metadata": {
        "id": "f41VeRNZg_4I",
        "colab_type": "text"
      },
      "source": [
        "## Data <a id='data'></a>"
      ]
    },
    {
      "cell_type": "markdown",
      "metadata": {
        "id": "gvVuV1XIg_4J",
        "colab_type": "text"
      },
      "source": [
        "Let us consider the Free Spoken Digit Dataset (FSDD), so called \"speech MNIST\" dataset. The dataset contains a set of recorded spoken digits in wav formats. You can access to this dataset in the following URL: https://github.com/Jakobovski/free-spoken-digit-dataset"
      ]
    },
    {
      "cell_type": "markdown",
      "metadata": {
        "id": "Q-bc1joTg_4L",
        "colab_type": "text"
      },
      "source": [
        "&#x270d; Download the dataset\n",
        "\n",
        "This can be directly download to your google drive without downloading locally and then uploading"
      ]
    },
    {
      "cell_type": "code",
      "metadata": {
        "id": "r4y86DBFg_4N",
        "colab_type": "code",
        "outputId": "6dc62fa6-7bc7-450c-d957-b75dd2d19071",
        "colab": {
          "base_uri": "https://localhost:8080/",
          "height": 125
        }
      },
      "source": [
        "from google.colab import drive\n",
        "drive.mount('/content/drive', force_remount=True)"
      ],
      "execution_count": 0,
      "outputs": [
        {
          "output_type": "stream",
          "text": [
            "Go to this URL in a browser: https://accounts.google.com/o/oauth2/auth?client_id=947318989803-6bn6qk8qdgf4n4g3pfee6491hc0brc4i.apps.googleusercontent.com&redirect_uri=urn%3aietf%3awg%3aoauth%3a2.0%3aoob&response_type=code&scope=email%20https%3a%2f%2fwww.googleapis.com%2fauth%2fdocs.test%20https%3a%2f%2fwww.googleapis.com%2fauth%2fdrive%20https%3a%2f%2fwww.googleapis.com%2fauth%2fdrive.photos.readonly%20https%3a%2f%2fwww.googleapis.com%2fauth%2fpeopleapi.readonly\n",
            "\n",
            "Enter your authorization code:\n",
            "··········\n",
            "Mounted at /content/drive\n"
          ],
          "name": "stdout"
        }
      ]
    },
    {
      "cell_type": "code",
      "metadata": {
        "id": "JbK5uA9cT2Ra",
        "colab_type": "code",
        "outputId": "4dfff83a-022e-42f6-da3f-1908c90634c1",
        "colab": {
          "base_uri": "https://localhost:8080/",
          "height": 34
        }
      },
      "source": [
        "cd /content/drive/My\\ Drive/Colab\\ Notebooks/SpeechRecognition/"
      ],
      "execution_count": 0,
      "outputs": [
        {
          "output_type": "stream",
          "text": [
            "/content/drive/My Drive/Colab Notebooks/SpeechRecognition\n"
          ],
          "name": "stdout"
        }
      ]
    },
    {
      "cell_type": "code",
      "metadata": {
        "id": "ZJTPwz1GT6qt",
        "colab_type": "code",
        "outputId": "d6084d9a-30f9-44d8-9dfa-ebbce37d4eea",
        "colab": {
          "base_uri": "https://localhost:8080/",
          "height": 301
        }
      },
      "source": [
        "!rm -rf free-spoken-digit-dataset-master master.zip\n",
        "!wget https://github.com/Jakobovski/free-spoken-digit-dataset/archive/master.zip\n",
        "!unzip -q -o master.zip\n",
        "!rm master.zip"
      ],
      "execution_count": 0,
      "outputs": [
        {
          "output_type": "stream",
          "text": [
            "--2020-06-08 19:02:25--  https://github.com/Jakobovski/free-spoken-digit-dataset/archive/master.zip\n",
            "Resolving github.com (github.com)... 140.82.112.4\n",
            "Connecting to github.com (github.com)|140.82.112.4|:443... connected.\n",
            "HTTP request sent, awaiting response... 302 Found\n",
            "Location: https://codeload.github.com/Jakobovski/free-spoken-digit-dataset/zip/master [following]\n",
            "--2020-06-08 19:02:25--  https://codeload.github.com/Jakobovski/free-spoken-digit-dataset/zip/master\n",
            "Resolving codeload.github.com (codeload.github.com)... 140.82.114.10\n",
            "Connecting to codeload.github.com (codeload.github.com)|140.82.114.10|:443... connected.\n",
            "HTTP request sent, awaiting response... 200 OK\n",
            "Length: unspecified [application/zip]\n",
            "Saving to: ‘master.zip’\n",
            "\n",
            "master.zip              [     <=>            ]   9.03M  10.3MB/s    in 0.9s    \n",
            "\n",
            "2020-06-08 19:02:26 (10.3 MB/s) - ‘master.zip’ saved [9465583]\n",
            "\n"
          ],
          "name": "stdout"
        }
      ]
    },
    {
      "cell_type": "code",
      "metadata": {
        "id": "bpEG7hIdUTTc",
        "colab_type": "code",
        "outputId": "6638b905-d8f7-452c-8ecc-68ac70d4d25b",
        "colab": {
          "base_uri": "https://localhost:8080/",
          "height": 87
        }
      },
      "source": [
        "!git colab 'https://github.com/Jakobovski/free-spoken-digit-dataset.git'"
      ],
      "execution_count": 0,
      "outputs": [
        {
          "output_type": "stream",
          "text": [
            "git: 'colab' is not a git command. See 'git --help'.\n",
            "\n",
            "The most similar command is\n",
            "\tclone\n"
          ],
          "name": "stdout"
        }
      ]
    },
    {
      "cell_type": "code",
      "metadata": {
        "id": "KlrmNp4dUAWw",
        "colab_type": "code",
        "outputId": "26043e37-40c7-4f21-baaa-1c960aa33cf7",
        "colab": {
          "base_uri": "https://localhost:8080/",
          "height": 34
        }
      },
      "source": [
        "ls"
      ],
      "execution_count": 0,
      "outputs": [
        {
          "output_type": "stream",
          "text": [
            "\u001b[0m\u001b[01;34mfree-spoken-digit-dataset-master\u001b[0m/\n"
          ],
          "name": "stdout"
        }
      ]
    },
    {
      "cell_type": "markdown",
      "metadata": {
        "id": "mujgeKDOg_4Q",
        "colab_type": "text"
      },
      "source": [
        "&#x270d; LibROSA is a python package for music and audio analysis\n",
        "\n",
        " Load an audio file using librosa.load. To preserve the native sampling rate of the file, **use `sr=None`.**\n",
        "\n"
      ]
    },
    {
      "cell_type": "code",
      "metadata": {
        "id": "_qGZIqWgUHRS",
        "colab_type": "code",
        "outputId": "7ce0376e-4d03-4b6d-ff4c-08a79b42df6b",
        "colab": {
          "base_uri": "https://localhost:8080/",
          "height": 230
        }
      },
      "source": [
        "!pip install librosa"
      ],
      "execution_count": 0,
      "outputs": [
        {
          "output_type": "stream",
          "text": [
            "Requirement already satisfied: librosa in /usr/local/lib/python3.6/dist-packages (0.6.3)\n",
            "Requirement already satisfied: scipy>=1.0.0 in /usr/local/lib/python3.6/dist-packages (from librosa) (1.4.1)\n",
            "Requirement already satisfied: decorator>=3.0.0 in /usr/local/lib/python3.6/dist-packages (from librosa) (4.4.2)\n",
            "Requirement already satisfied: six>=1.3 in /usr/local/lib/python3.6/dist-packages (from librosa) (1.12.0)\n",
            "Requirement already satisfied: joblib>=0.12 in /usr/local/lib/python3.6/dist-packages (from librosa) (0.15.1)\n",
            "Requirement already satisfied: audioread>=2.0.0 in /usr/local/lib/python3.6/dist-packages (from librosa) (2.1.8)\n",
            "Requirement already satisfied: resampy>=0.2.0 in /usr/local/lib/python3.6/dist-packages (from librosa) (0.2.2)\n",
            "Requirement already satisfied: numpy>=1.8.0 in /usr/local/lib/python3.6/dist-packages (from librosa) (1.18.4)\n",
            "Requirement already satisfied: numba>=0.38.0 in /usr/local/lib/python3.6/dist-packages (from librosa) (0.48.0)\n",
            "Requirement already satisfied: scikit-learn!=0.19.0,>=0.14.0 in /usr/local/lib/python3.6/dist-packages (from librosa) (0.22.2.post1)\n",
            "Requirement already satisfied: setuptools in /usr/local/lib/python3.6/dist-packages (from numba>=0.38.0->librosa) (47.1.1)\n",
            "Requirement already satisfied: llvmlite<0.32.0,>=0.31.0dev0 in /usr/local/lib/python3.6/dist-packages (from numba>=0.38.0->librosa) (0.31.0)\n"
          ],
          "name": "stdout"
        }
      ]
    },
    {
      "cell_type": "code",
      "metadata": {
        "id": "NFet42q8g_4R",
        "colab_type": "code",
        "colab": {}
      },
      "source": [
        "import os\n",
        "import librosa # !pip install librosa\n",
        "\n",
        "audio_path = os.path.join(\n",
        "    os.getcwd(),\n",
        "    '/content/drive/My Drive/Colab Notebooks/SpeechRecognition/free-spoken-digit-dataset-master/recordings'\n",
        ")\n",
        "\n",
        "audio_files = os.listdir(audio_path)\n",
        "\n",
        "sample_audio_path = os.path.join(audio_path, audio_files[100])\n",
        "\n",
        "X, sr = librosa.load(sample_audio_path, sr=None)"
      ],
      "execution_count": 0,
      "outputs": []
    },
    {
      "cell_type": "markdown",
      "metadata": {
        "id": "NwZsIO6Ug_4U",
        "colab_type": "text"
      },
      "source": [
        "&#x270d; Display the length of the audio array and sampling rate."
      ]
    },
    {
      "cell_type": "code",
      "metadata": {
        "id": "eMFDTZrCg_4V",
        "colab_type": "code",
        "outputId": "ec9ecf96-fea7-49b0-af52-9b6548b743b0",
        "colab": {
          "base_uri": "https://localhost:8080/",
          "height": 52
        }
      },
      "source": [
        "print('Audio signal shape:',  X.shape)\n",
        "print('Sampling rate: {} Hz'.format(sr))"
      ],
      "execution_count": 0,
      "outputs": [
        {
          "output_type": "stream",
          "text": [
            "Audio signal shape: (4108,)\n",
            "Sampling rate: 8000 Hz\n"
          ],
          "name": "stdout"
        }
      ]
    },
    {
      "cell_type": "markdown",
      "metadata": {
        "id": "IEAu18Hlg_4Z",
        "colab_type": "text"
      },
      "source": [
        "&#x270d; How long is the audio signal in seconds?\n",
        "<br>\n",
        "understanding what is sr"
      ]
    },
    {
      "cell_type": "code",
      "metadata": {
        "id": "b3HN9oSvg_4Z",
        "colab_type": "code",
        "outputId": "b5248092-3cbe-4e97-8ca7-4c8192c5c093",
        "colab": {
          "base_uri": "https://localhost:8080/",
          "height": 34
        }
      },
      "source": [
        "print('Audio length: {} seconds'.format(X.shape[0] / sr ))"
      ],
      "execution_count": 0,
      "outputs": [
        {
          "output_type": "stream",
          "text": [
            "Audio length: 0.5135 seconds\n"
          ],
          "name": "stdout"
        }
      ]
    },
    {
      "cell_type": "markdown",
      "metadata": {
        "id": "I3GlzzIOg_4e",
        "colab_type": "text"
      },
      "source": [
        "&#x270d; Play your chosen audio file and play the record"
      ]
    },
    {
      "cell_type": "code",
      "metadata": {
        "id": "sW-qMBYqg_4e",
        "colab_type": "code",
        "outputId": "c3de21de-481f-4153-9bef-b9c736020cd2",
        "colab": {
          "base_uri": "https://localhost:8080/",
          "height": 75
        }
      },
      "source": [
        "from IPython.display import Audio\n",
        "\n",
        "Audio(X, rate=sr)"
      ],
      "execution_count": 0,
      "outputs": [
        {
          "output_type": "execute_result",
          "data": {
            "text/html": [
              "\n",
              "                <audio controls=\"controls\" >\n",
              "                    <source src=\"data:audio/wav;base64,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\" type=\"audio/wav\" />\n",
              "                    Your browser does not support the audio element.\n",
              "                </audio>\n",
              "              "
            ],
            "text/plain": [
              "<IPython.lib.display.Audio object>"
            ]
          },
          "metadata": {
            "tags": []
          },
          "execution_count": 6
        }
      ]
    },
    {
      "cell_type": "markdown",
      "metadata": {
        "id": "o52XE19dg_4h",
        "colab_type": "text"
      },
      "source": [
        "&#x270d; Plot the audio signal in time domain."
      ]
    },
    {
      "cell_type": "code",
      "metadata": {
        "id": "lghmYwIOg_4i",
        "colab_type": "code",
        "outputId": "578e167d-a589-46e8-f3de-b00ea1d7e4c5",
        "colab": {
          "base_uri": "https://localhost:8080/",
          "height": 297
        }
      },
      "source": [
        "import librosa.display\n",
        "import matplotlib.pyplot as plt\n",
        "%matplotlib inline\n",
        "\n",
        "librosa.display.waveplot(X, sr)"
      ],
      "execution_count": 0,
      "outputs": [
        {
          "output_type": "execute_result",
          "data": {
            "text/plain": [
              "<matplotlib.collections.PolyCollection at 0x7f90390ed438>"
            ]
          },
          "metadata": {
            "tags": []
          },
          "execution_count": 7
        },
        {
          "output_type": "display_data",
          "data": {
            "image/png": "[encoded data removed]",
            "text/plain": [
              "<Figure size 432x288 with 1 Axes>"
            ]
          },
          "metadata": {
            "tags": [],
            "needs_background": "light"
          }
        }
      ]
    },
    {
      "cell_type": "markdown",
      "metadata": {
        "id": "WA3b7i3sg_4k",
        "colab_type": "text"
      },
      "source": [
        "&#x270d; Display the audio signal's spectrogram on a logarithmic scale using *librosa.stft*. Note that, the Short-Time Fourier Transform (STFT) represents a signal in the time-frequency domain by computing discrete Fourier transforms (DFT) over short overlapping windows.\n",
        "\n",
        "\n",
        "Decibel:\n",
        "https://en.wikipedia.org/wiki/Decibel#Acoustics\n",
        "\n"
      ]
    },
    {
      "cell_type": "code",
      "metadata": {
        "id": "BrqTWI1tg_4l",
        "colab_type": "code",
        "outputId": "44e15e5c-cba0-4eeb-b8ca-3c9756086883",
        "colab": {
          "base_uri": "https://localhost:8080/",
          "height": 441
        }
      },
      "source": [
        "import numpy as np\n",
        "\n",
        "n_fft = 1024\n",
        "hop_length = 128\n",
        "\n",
        "stft = librosa.stft(X, n_fft=n_fft, hop_length=hop_length)\n",
        "\n",
        "stft_magnitude, stft_phase = librosa.magphase(stft)\n",
        "\n",
        "stft_magnitude_dB = librosa.amplitude_to_db(stft_magnitude, ref=np.max)\n",
        "\n",
        "plt.figure(figsize=(12, 6))\n",
        "\n",
        "librosa.display.specshow(stft_magnitude_dB, \n",
        "                         x_axis = 'time',\n",
        "                         y_axis = 'log',\n",
        "                         sr = sr,\n",
        "                         hop_length = hop_length)\n",
        "plt.title('Power spectrogram')\n",
        "plt.colorbar(format='%+2.0f dB')\n",
        "plt.tight_layout()\n",
        "plt.show()"
      ],
      "execution_count": 0,
      "outputs": [
        {
          "output_type": "display_data",
          "data": {
            "image/png": "[encoded data removed]",
            "text/plain": [
              "<Figure size 864x432 with 2 Axes>"
            ]
          },
          "metadata": {
            "tags": [],
            "needs_background": "light"
          }
        }
      ]
    },
    {
      "cell_type": "markdown",
      "metadata": {
        "id": "tZynBha7g_4o",
        "colab_type": "text"
      },
      "source": [
        "&#x270d; What is the hop length in seconds?"
      ]
    },
    {
      "cell_type": "code",
      "metadata": {
        "id": "--ZRXnMxg_4o",
        "colab_type": "code",
        "outputId": "0dd9ed64-467f-4575-d412-9f151a1d1b9d",
        "colab": {
          "base_uri": "https://localhost:8080/",
          "height": 34
        }
      },
      "source": [
        "print('Hop length: {} seconds'.format(hop_length/sr)) "
      ],
      "execution_count": 0,
      "outputs": [
        {
          "output_type": "stream",
          "text": [
            "Hop length: 0.016 seconds\n"
          ],
          "name": "stdout"
        }
      ]
    },
    {
      "cell_type": "markdown",
      "metadata": {
        "id": "ULhte114g_4t",
        "colab_type": "text"
      },
      "source": [
        "## Data Preprocessing <a id='data_preproc'></a>"
      ]
    },
    {
      "cell_type": "markdown",
      "metadata": {
        "id": "jigVL8P0g_4u",
        "colab_type": "text"
      },
      "source": [
        "&#x270d; Find all audio files duration in seconds and sampling rate, and plot their distributions."
      ]
    },
    {
      "cell_type": "code",
      "metadata": {
        "id": "o-y5FTVeg_4u",
        "colab_type": "code",
        "colab": {}
      },
      "source": [
        "audio_path = os.path.join(os.getcwd(), '/content/drive/My Drive/Colab Notebooks/SpeechRecognition/free-spoken-digit-dataset-master/recordings')\n",
        "audio_files = os.listdir(audio_path)\n",
        "\n",
        "all_audios_sr = []\n",
        "all_audios_duration = []\n",
        "\n",
        "for audio_file in audio_files:\n",
        "  audio, sr = librosa.load(audio_path +'/'+ audio_file, sr = None)\n",
        "  all_audios_sr.append(sr)\n",
        "  all_audios_duration.append(len(audio) / sr)\n",
        "\n",
        "all_audios_duration = np.asarray(all_audios_duration)\n",
        "all_audios_sr = np.asarray(all_audios_sr)\n"
      ],
      "execution_count": 0,
      "outputs": []
    },
    {
      "cell_type": "code",
      "metadata": {
        "id": "nljPJo7Iae4q",
        "colab_type": "code",
        "outputId": "52cd8bd5-ec9d-4701-b24a-14f38cbaf4d9",
        "colab": {
          "base_uri": "https://localhost:8080/",
          "height": 495
        }
      },
      "source": [
        "plt.figure(figsize = (10, 8))\n",
        "plt.subplot(1,2,1)\n",
        "plt.hist(all_audios_sr);\n",
        "\n",
        "plt.subplot(1,2,2)\n",
        "plt.hist(all_audios_duration);"
      ],
      "execution_count": 0,
      "outputs": [
        {
          "output_type": "display_data",
          "data": {
            "image/png": "[encoded data removed]",
            "text/plain": [
              "<Figure size 720x576 with 2 Axes>"
            ]
          },
          "metadata": {
            "tags": [],
            "needs_background": "light"
          }
        }
      ]
    },
    {
      "cell_type": "markdown",
      "metadata": {
        "id": "HSfK7frog_4w",
        "colab_type": "text"
      },
      "source": [
        "&#x270d; Clip or pad audio signals to have one second duration for all audios. Extract audio labels as well. Keep audio signals from speaker 'jackson' for test set, and the rest speakers for training.\n",
        "\n",
        "Dataformat Number_NAME_recordnumber.wav"
      ]
    },
    {
      "cell_type": "code",
      "metadata": {
        "id": "IZHHGh_Cfhwe",
        "colab_type": "code",
        "colab": {}
      },
      "source": [
        "audio_duration_sec = 1\n",
        "\n",
        "def padOrClip(a, n):\n",
        "  # Clip\n",
        "  if a.shape[0] > n:\n",
        "    return(a[:n])\n",
        "  \n",
        "  #padding\n",
        "  else:\n",
        "    return np.hstack(( a, np.zeros( n - a.shape[0])))"
      ],
      "execution_count": 0,
      "outputs": []
    },
    {
      "cell_type": "markdown",
      "metadata": {
        "id": "eaMyepeXg_4-",
        "colab_type": "text"
      },
      "source": [
        "&#x270d; Build a model based on time domain input signals and evaluate the classification performance of it. "
      ]
    },
    {
      "cell_type": "markdown",
      "metadata": {
        "id": "o3QZDJt9g_48",
        "colab_type": "text"
      },
      "source": [
        "## Time Domain Model <a id='time_model'></a>"
      ]
    },
    {
      "cell_type": "markdown",
      "metadata": {
        "id": "3wI0sZ61g_5O",
        "colab_type": "text"
      },
      "source": [
        "&#x270d; Now, create a model based on time-frequency domain input signals and evaluate its performance.\n",
        "\n",
        "abs(the output from stft) gives you the frequency domain"
      ]
    },
    {
      "cell_type": "code",
      "metadata": {
        "id": "Pgn6V7ukhq32",
        "colab_type": "code",
        "colab": {}
      },
      "source": [
        "Xtime, ytime = [], []\n",
        "\n",
        "for audio_file in audio_files:\n",
        "    \n",
        "    audio, sr = librosa.load(audio_path +'/'+ audio_file, sr = None)\n",
        "    \n",
        "    X1 = padOrClip(audio, int(audio_duration_sec*sr))\n",
        "    # spectrogram = np.abs(librosa.stft(X1))\n",
        "\n",
        "    digit = audio_file.split('_')[0]\n",
        "    label = audio_file.split('_')[1]\n",
        "    \n",
        "    Xtime.append(X1)\n",
        "    ytime.append(label)\n",
        "    \n",
        "Xtime = np.asarray(Xtime)\n",
        "ytime = np.asarray(ytime)"
      ],
      "execution_count": 0,
      "outputs": []
    },
    {
      "cell_type": "code",
      "metadata": {
        "id": "BynBxBQmjQxc",
        "colab_type": "code",
        "colab": {}
      },
      "source": [
        "from sklearn.model_selection import train_test_split\n",
        "X_time_train, X_time_test, y_time_trn_label, y_time_tst_label = train_test_split(Xtime,ytime, test_size=0.2, random_state=123, stratify=ytime)"
      ],
      "execution_count": 0,
      "outputs": []
    },
    {
      "cell_type": "code",
      "metadata": {
        "id": "lS170jjHkhUQ",
        "colab_type": "code",
        "outputId": "ba8c0ab9-c9ee-4252-9fd3-9862326addfe",
        "colab": {
          "base_uri": "https://localhost:8080/",
          "height": 34
        }
      },
      "source": [
        "from sklearn.preprocessing import LabelEncoder\n",
        "out_encoder = LabelEncoder()\n",
        "out_encoder.fit(y_time_trn_label)\n",
        "y_time_train = out_encoder.transform(y_time_trn_label)\n",
        "y_time_test = out_encoder.transform(y_time_tst_label)\n",
        "\n",
        "print(out_encoder.classes_)"
      ],
      "execution_count": 0,
      "outputs": [
        {
          "output_type": "stream",
          "text": [
            "['jackson' 'nicolas' 'theo' 'yweweler']\n"
          ],
          "name": "stdout"
        }
      ]
    },
    {
      "cell_type": "code",
      "metadata": {
        "id": "vy6It6UVkFAU",
        "colab_type": "code",
        "colab": {}
      },
      "source": [
        "from keras.utils.np_utils import to_categorical\n",
        "\n",
        "y_time_train = to_categorical(y_time_train)\n",
        "y_time_test = to_categorical(y_time_test)"
      ],
      "execution_count": 0,
      "outputs": []
    },
    {
      "cell_type": "code",
      "metadata": {
        "id": "ggBt05jvjr8Y",
        "colab_type": "code",
        "outputId": "62e84eae-8991-409e-d064-525077d36099",
        "colab": {
          "base_uri": "https://localhost:8080/",
          "height": 52
        }
      },
      "source": [
        "print(X_time_train.shape, X_time_test.shape)\n",
        "print(y_time_train.shape, y_time_test.shape)"
      ],
      "execution_count": 0,
      "outputs": [
        {
          "output_type": "stream",
          "text": [
            "(1600, 8000) (400, 8000)\n",
            "(1600, 4) (400, 4)\n"
          ],
          "name": "stdout"
        }
      ]
    },
    {
      "cell_type": "code",
      "metadata": {
        "id": "QFTRVCNMg_4_",
        "colab_type": "code",
        "outputId": "a181f210-9c2b-4c2d-aa49-8209947ebc56",
        "colab": {
          "base_uri": "https://localhost:8080/",
          "height": 407
        }
      },
      "source": [
        "# Create a model\n",
        "from keras.models import Sequential\n",
        "from keras.layers import Dense, Dropout\n",
        "\n",
        "model = Sequential()\n",
        "model.add(Dense(256, activation='relu', input_dim= X_time_train.shape[1]))\n",
        "model.add(Dropout(0.25))\n",
        "model.add(Dense(128, activation='relu'))\n",
        "model.add(Dropout(0.25))\n",
        "model.add(Dense(64, activation='relu'))\n",
        "model.add(Dropout(0.25))\n",
        "model.add(Dense(4, activation='softmax'))\n",
        "model.summary()"
      ],
      "execution_count": 0,
      "outputs": [
        {
          "output_type": "stream",
          "text": [
            "Model: \"sequential_5\"\n",
            "_________________________________________________________________\n",
            "Layer (type)                 Output Shape              Param #   \n",
            "=================================================================\n",
            "dense_13 (Dense)             (None, 256)               2048256   \n",
            "_________________________________________________________________\n",
            "dropout_10 (Dropout)         (None, 256)               0         \n",
            "_________________________________________________________________\n",
            "dense_14 (Dense)             (None, 128)               32896     \n",
            "_________________________________________________________________\n",
            "dropout_11 (Dropout)         (None, 128)               0         \n",
            "_________________________________________________________________\n",
            "dense_15 (Dense)             (None, 64)                8256      \n",
            "_________________________________________________________________\n",
            "dropout_12 (Dropout)         (None, 64)                0         \n",
            "_________________________________________________________________\n",
            "dense_16 (Dense)             (None, 4)                 260       \n",
            "=================================================================\n",
            "Total params: 2,089,668\n",
            "Trainable params: 2,089,668\n",
            "Non-trainable params: 0\n",
            "_________________________________________________________________\n"
          ],
          "name": "stdout"
        }
      ]
    },
    {
      "cell_type": "code",
      "metadata": {
        "id": "HCZo0Z-gg_5B",
        "colab_type": "code",
        "outputId": "e2fd7755-d6fd-4ea2-a8d6-d5c84956e7c4",
        "colab": {
          "base_uri": "https://localhost:8080/",
          "height": 1000
        }
      },
      "source": [
        "# Compile the model\n",
        "model.compile(loss= 'categorical_crossentropy',\n",
        "              optimizer= 'adam',\n",
        "              metrics= ['accuracy'])\n",
        "\n",
        "# Fit the model\n",
        "history = model.fit(X_time_train, y_time_train,\n",
        "          epochs= 100,\n",
        "          batch_size= 64,\n",
        "          validation_split = 0.2,\n",
        "          shuffle = True,\n",
        "          verbose = 1)"
      ],
      "execution_count": 0,
      "outputs": [
        {
          "output_type": "stream",
          "text": [
            "Train on 1280 samples, validate on 320 samples\n",
            "Epoch 1/100\n",
            "1280/1280 [==============================] - 1s 906us/step - loss: 1.2582 - accuracy: 0.3922 - val_loss: 1.0845 - val_accuracy: 0.5312\n",
            "Epoch 2/100\n",
            "1280/1280 [==============================] - 1s 608us/step - loss: 0.8553 - accuracy: 0.6930 - val_loss: 0.7171 - val_accuracy: 0.7125\n",
            "Epoch 3/100\n",
            "1280/1280 [==============================] - 1s 608us/step - loss: 0.5649 - accuracy: 0.7594 - val_loss: 0.5279 - val_accuracy: 0.7000\n",
            "Epoch 4/100\n",
            "1280/1280 [==============================] - 1s 614us/step - loss: 0.4001 - accuracy: 0.7828 - val_loss: 0.4397 - val_accuracy: 0.7469\n",
            "Epoch 5/100\n",
            "1280/1280 [==============================] - 1s 610us/step - loss: 0.3539 - accuracy: 0.8008 - val_loss: 0.4554 - val_accuracy: 0.8219\n",
            "Epoch 6/100\n",
            "1280/1280 [==============================] - 1s 592us/step - loss: 0.3120 - accuracy: 0.8406 - val_loss: 0.4976 - val_accuracy: 0.7906\n",
            "Epoch 7/100\n",
            "1280/1280 [==============================] - 1s 603us/step - loss: 0.2663 - accuracy: 0.8789 - val_loss: 0.5314 - val_accuracy: 0.7750\n",
            "Epoch 8/100\n",
            "1280/1280 [==============================] - 1s 594us/step - loss: 0.1907 - accuracy: 0.9367 - val_loss: 0.6042 - val_accuracy: 0.8031\n",
            "Epoch 9/100\n",
            "1280/1280 [==============================] - 1s 591us/step - loss: 0.1211 - accuracy: 0.9703 - val_loss: 0.6727 - val_accuracy: 0.8219\n",
            "Epoch 10/100\n",
            "1280/1280 [==============================] - 1s 591us/step - loss: 0.0775 - accuracy: 0.9789 - val_loss: 0.7805 - val_accuracy: 0.8094\n",
            "Epoch 11/100\n",
            "1280/1280 [==============================] - 1s 623us/step - loss: 0.0734 - accuracy: 0.9836 - val_loss: 0.8702 - val_accuracy: 0.8031\n",
            "Epoch 12/100\n",
            "1280/1280 [==============================] - 1s 620us/step - loss: 0.0734 - accuracy: 0.9805 - val_loss: 1.0122 - val_accuracy: 0.7844\n",
            "Epoch 13/100\n",
            "1280/1280 [==============================] - 1s 612us/step - loss: 0.0891 - accuracy: 0.9789 - val_loss: 0.8743 - val_accuracy: 0.8125\n",
            "Epoch 14/100\n",
            "1280/1280 [==============================] - 1s 618us/step - loss: 0.0792 - accuracy: 0.9828 - val_loss: 0.8611 - val_accuracy: 0.8219\n",
            "Epoch 15/100\n",
            "1280/1280 [==============================] - 1s 622us/step - loss: 0.0423 - accuracy: 0.9922 - val_loss: 0.8162 - val_accuracy: 0.8344\n",
            "Epoch 16/100\n",
            "1280/1280 [==============================] - 1s 616us/step - loss: 0.0372 - accuracy: 0.9914 - val_loss: 0.9109 - val_accuracy: 0.8281\n",
            "Epoch 17/100\n",
            "1280/1280 [==============================] - 1s 645us/step - loss: 0.0245 - accuracy: 0.9945 - val_loss: 0.9325 - val_accuracy: 0.8250\n",
            "Epoch 18/100\n",
            "1280/1280 [==============================] - 1s 631us/step - loss: 0.0243 - accuracy: 0.9977 - val_loss: 0.9821 - val_accuracy: 0.8281\n",
            "Epoch 19/100\n",
            "1280/1280 [==============================] - 1s 615us/step - loss: 0.0239 - accuracy: 0.9953 - val_loss: 1.0974 - val_accuracy: 0.8281\n",
            "Epoch 20/100\n",
            "1280/1280 [==============================] - 1s 617us/step - loss: 0.0165 - accuracy: 0.9977 - val_loss: 1.1419 - val_accuracy: 0.8250\n",
            "Epoch 21/100\n",
            "1280/1280 [==============================] - 1s 609us/step - loss: 0.0271 - accuracy: 0.9953 - val_loss: 1.1981 - val_accuracy: 0.8188\n",
            "Epoch 22/100\n",
            "1280/1280 [==============================] - 1s 621us/step - loss: 0.0165 - accuracy: 0.9953 - val_loss: 1.2042 - val_accuracy: 0.8125\n",
            "Epoch 23/100\n",
            "1280/1280 [==============================] - 1s 615us/step - loss: 0.0167 - accuracy: 0.9984 - val_loss: 1.2181 - val_accuracy: 0.8094\n",
            "Epoch 24/100\n",
            "1280/1280 [==============================] - 1s 632us/step - loss: 0.0217 - accuracy: 0.9961 - val_loss: 1.2558 - val_accuracy: 0.8031\n",
            "Epoch 25/100\n",
            "1280/1280 [==============================] - 1s 618us/step - loss: 0.0131 - accuracy: 0.9961 - val_loss: 1.2655 - val_accuracy: 0.8094\n",
            "Epoch 26/100\n",
            "1280/1280 [==============================] - 1s 620us/step - loss: 0.0221 - accuracy: 0.9937 - val_loss: 1.2258 - val_accuracy: 0.8156\n",
            "Epoch 27/100\n",
            "1280/1280 [==============================] - 1s 614us/step - loss: 0.0140 - accuracy: 0.9969 - val_loss: 1.2615 - val_accuracy: 0.8156\n",
            "Epoch 28/100\n",
            "1280/1280 [==============================] - 1s 633us/step - loss: 0.0081 - accuracy: 0.9977 - val_loss: 1.2544 - val_accuracy: 0.8188\n",
            "Epoch 29/100\n",
            "1280/1280 [==============================] - 1s 642us/step - loss: 0.0055 - accuracy: 1.0000 - val_loss: 1.2781 - val_accuracy: 0.8125\n",
            "Epoch 30/100\n",
            "1280/1280 [==============================] - 1s 639us/step - loss: 0.0061 - accuracy: 0.9992 - val_loss: 1.2779 - val_accuracy: 0.8156\n",
            "Epoch 31/100\n",
            "1280/1280 [==============================] - 1s 642us/step - loss: 0.0037 - accuracy: 1.0000 - val_loss: 1.3379 - val_accuracy: 0.8250\n",
            "Epoch 32/100\n",
            "1280/1280 [==============================] - 1s 636us/step - loss: 0.0039 - accuracy: 0.9992 - val_loss: 1.3633 - val_accuracy: 0.8250\n",
            "Epoch 33/100\n",
            "1280/1280 [==============================] - 1s 632us/step - loss: 0.0031 - accuracy: 0.9992 - val_loss: 1.3440 - val_accuracy: 0.8250\n",
            "Epoch 34/100\n",
            "1280/1280 [==============================] - 1s 639us/step - loss: 0.0067 - accuracy: 0.9992 - val_loss: 1.3117 - val_accuracy: 0.8188\n",
            "Epoch 35/100\n",
            "1280/1280 [==============================] - 1s 628us/step - loss: 0.0036 - accuracy: 0.9992 - val_loss: 1.3569 - val_accuracy: 0.8188\n",
            "Epoch 36/100\n",
            "1280/1280 [==============================] - 1s 655us/step - loss: 0.0033 - accuracy: 0.9992 - val_loss: 1.2859 - val_accuracy: 0.8062\n",
            "Epoch 37/100\n",
            "1280/1280 [==============================] - 1s 636us/step - loss: 0.0020 - accuracy: 1.0000 - val_loss: 1.3330 - val_accuracy: 0.8156\n",
            "Epoch 38/100\n",
            "1280/1280 [==============================] - 1s 620us/step - loss: 0.0024 - accuracy: 0.9992 - val_loss: 1.3154 - val_accuracy: 0.8219\n",
            "Epoch 39/100\n",
            "1280/1280 [==============================] - 1s 629us/step - loss: 0.0147 - accuracy: 0.9992 - val_loss: 1.3955 - val_accuracy: 0.8250\n",
            "Epoch 40/100\n",
            "1280/1280 [==============================] - 1s 633us/step - loss: 0.0030 - accuracy: 0.9992 - val_loss: 1.3636 - val_accuracy: 0.8188\n",
            "Epoch 41/100\n",
            "1280/1280 [==============================] - 1s 624us/step - loss: 0.0029 - accuracy: 0.9992 - val_loss: 1.4345 - val_accuracy: 0.8156\n",
            "Epoch 42/100\n",
            "1280/1280 [==============================] - 1s 609us/step - loss: 0.0023 - accuracy: 1.0000 - val_loss: 1.3859 - val_accuracy: 0.8281\n",
            "Epoch 43/100\n",
            "1280/1280 [==============================] - 1s 618us/step - loss: 0.0015 - accuracy: 1.0000 - val_loss: 1.3647 - val_accuracy: 0.8188\n",
            "Epoch 44/100\n",
            "1280/1280 [==============================] - 1s 610us/step - loss: 0.0017 - accuracy: 1.0000 - val_loss: 1.4359 - val_accuracy: 0.8250\n",
            "Epoch 45/100\n",
            "1280/1280 [==============================] - 1s 611us/step - loss: 9.2783e-04 - accuracy: 1.0000 - val_loss: 1.4465 - val_accuracy: 0.8219\n",
            "Epoch 46/100\n",
            "1280/1280 [==============================] - 1s 617us/step - loss: 0.0017 - accuracy: 1.0000 - val_loss: 1.4086 - val_accuracy: 0.8219\n",
            "Epoch 47/100\n",
            "1280/1280 [==============================] - 1s 597us/step - loss: 0.0049 - accuracy: 0.9992 - val_loss: 1.4479 - val_accuracy: 0.8219\n",
            "Epoch 48/100\n",
            "1280/1280 [==============================] - 1s 613us/step - loss: 0.0047 - accuracy: 0.9984 - val_loss: 1.4682 - val_accuracy: 0.8125\n",
            "Epoch 49/100\n",
            "1280/1280 [==============================] - 1s 632us/step - loss: 0.0019 - accuracy: 1.0000 - val_loss: 1.4202 - val_accuracy: 0.8156\n",
            "Epoch 50/100\n",
            "1280/1280 [==============================] - 1s 627us/step - loss: 0.0013 - accuracy: 1.0000 - val_loss: 1.4896 - val_accuracy: 0.8125\n",
            "Epoch 51/100\n",
            "1280/1280 [==============================] - 1s 629us/step - loss: 0.0019 - accuracy: 1.0000 - val_loss: 1.4656 - val_accuracy: 0.8156\n",
            "Epoch 52/100\n",
            "1280/1280 [==============================] - 1s 612us/step - loss: 0.0123 - accuracy: 0.9984 - val_loss: 1.5979 - val_accuracy: 0.8094\n",
            "Epoch 53/100\n",
            "1280/1280 [==============================] - 1s 615us/step - loss: 0.0048 - accuracy: 0.9984 - val_loss: 1.4799 - val_accuracy: 0.8219\n",
            "Epoch 54/100\n",
            "1280/1280 [==============================] - 1s 623us/step - loss: 0.0051 - accuracy: 0.9992 - val_loss: 1.4579 - val_accuracy: 0.8219\n",
            "Epoch 55/100\n",
            "1280/1280 [==============================] - 1s 626us/step - loss: 0.0028 - accuracy: 0.9992 - val_loss: 1.4421 - val_accuracy: 0.8219\n",
            "Epoch 56/100\n",
            "1280/1280 [==============================] - 1s 611us/step - loss: 0.0011 - accuracy: 1.0000 - val_loss: 1.5181 - val_accuracy: 0.8156\n",
            "Epoch 57/100\n",
            "1280/1280 [==============================] - 1s 626us/step - loss: 0.0020 - accuracy: 1.0000 - val_loss: 1.4886 - val_accuracy: 0.8156\n",
            "Epoch 58/100\n",
            "1280/1280 [==============================] - 1s 616us/step - loss: 0.0016 - accuracy: 1.0000 - val_loss: 1.4727 - val_accuracy: 0.8156\n",
            "Epoch 59/100\n",
            "1280/1280 [==============================] - 1s 608us/step - loss: 0.0013 - accuracy: 1.0000 - val_loss: 1.5653 - val_accuracy: 0.8062\n",
            "Epoch 60/100\n",
            "1280/1280 [==============================] - 1s 632us/step - loss: 8.4413e-04 - accuracy: 1.0000 - val_loss: 1.5984 - val_accuracy: 0.8062\n",
            "Epoch 61/100\n",
            "1280/1280 [==============================] - 1s 611us/step - loss: 0.0022 - accuracy: 0.9992 - val_loss: 1.4779 - val_accuracy: 0.8125\n",
            "Epoch 62/100\n",
            "1280/1280 [==============================] - 1s 648us/step - loss: 0.0042 - accuracy: 0.9992 - val_loss: 1.6467 - val_accuracy: 0.8062\n",
            "Epoch 63/100\n",
            "1280/1280 [==============================] - 1s 622us/step - loss: 0.0025 - accuracy: 0.9992 - val_loss: 1.4506 - val_accuracy: 0.8156\n",
            "Epoch 64/100\n",
            "1280/1280 [==============================] - 1s 623us/step - loss: 0.0031 - accuracy: 0.9984 - val_loss: 1.4807 - val_accuracy: 0.8344\n",
            "Epoch 65/100\n",
            "1280/1280 [==============================] - 1s 608us/step - loss: 0.0012 - accuracy: 1.0000 - val_loss: 1.5281 - val_accuracy: 0.8313\n",
            "Epoch 66/100\n",
            "1280/1280 [==============================] - 1s 614us/step - loss: 0.0014 - accuracy: 1.0000 - val_loss: 1.5311 - val_accuracy: 0.8281\n",
            "Epoch 67/100\n",
            "1280/1280 [==============================] - 1s 604us/step - loss: 0.0013 - accuracy: 1.0000 - val_loss: 1.6375 - val_accuracy: 0.8250\n",
            "Epoch 68/100\n",
            "1280/1280 [==============================] - 1s 608us/step - loss: 0.0058 - accuracy: 0.9984 - val_loss: 1.5172 - val_accuracy: 0.8250\n",
            "Epoch 69/100\n",
            "1280/1280 [==============================] - 1s 620us/step - loss: 0.0075 - accuracy: 0.9977 - val_loss: 1.5067 - val_accuracy: 0.8125\n",
            "Epoch 70/100\n",
            "1280/1280 [==============================] - 1s 618us/step - loss: 0.0039 - accuracy: 0.9984 - val_loss: 1.4590 - val_accuracy: 0.8250\n",
            "Epoch 71/100\n",
            "1280/1280 [==============================] - 1s 618us/step - loss: 0.0083 - accuracy: 0.9969 - val_loss: 1.5215 - val_accuracy: 0.8313\n",
            "Epoch 72/100\n",
            "1280/1280 [==============================] - 1s 617us/step - loss: 0.0173 - accuracy: 0.9969 - val_loss: 1.5222 - val_accuracy: 0.8188\n",
            "Epoch 73/100\n",
            "1280/1280 [==============================] - 1s 626us/step - loss: 0.0091 - accuracy: 0.9992 - val_loss: 1.5575 - val_accuracy: 0.8031\n",
            "Epoch 74/100\n",
            "1280/1280 [==============================] - 1s 623us/step - loss: 0.0107 - accuracy: 0.9977 - val_loss: 1.7069 - val_accuracy: 0.8156\n",
            "Epoch 75/100\n",
            "1280/1280 [==============================] - 1s 647us/step - loss: 0.0205 - accuracy: 0.9984 - val_loss: 1.6121 - val_accuracy: 0.8219\n",
            "Epoch 76/100\n",
            "1280/1280 [==============================] - 1s 626us/step - loss: 0.0076 - accuracy: 0.9977 - val_loss: 1.6401 - val_accuracy: 0.8094\n",
            "Epoch 77/100\n",
            "1280/1280 [==============================] - 1s 635us/step - loss: 0.0023 - accuracy: 1.0000 - val_loss: 1.6191 - val_accuracy: 0.8000\n",
            "Epoch 78/100\n",
            "1280/1280 [==============================] - 1s 617us/step - loss: 0.0063 - accuracy: 0.9992 - val_loss: 1.6087 - val_accuracy: 0.8000\n",
            "Epoch 79/100\n",
            "1280/1280 [==============================] - 1s 616us/step - loss: 0.0021 - accuracy: 1.0000 - val_loss: 1.5876 - val_accuracy: 0.8062\n",
            "Epoch 80/100\n",
            "1280/1280 [==============================] - 1s 614us/step - loss: 0.0226 - accuracy: 0.9953 - val_loss: 1.6586 - val_accuracy: 0.8094\n",
            "Epoch 81/100\n",
            "1280/1280 [==============================] - 1s 614us/step - loss: 0.0059 - accuracy: 0.9984 - val_loss: 1.7792 - val_accuracy: 0.8156\n",
            "Epoch 82/100\n",
            "1280/1280 [==============================] - 1s 637us/step - loss: 0.0061 - accuracy: 0.9969 - val_loss: 1.7073 - val_accuracy: 0.8156\n",
            "Epoch 83/100\n",
            "1280/1280 [==============================] - 1s 618us/step - loss: 0.0102 - accuracy: 0.9961 - val_loss: 1.6753 - val_accuracy: 0.8156\n",
            "Epoch 84/100\n",
            "1280/1280 [==============================] - 1s 623us/step - loss: 0.0335 - accuracy: 0.9984 - val_loss: 1.4550 - val_accuracy: 0.8156\n",
            "Epoch 85/100\n",
            "1280/1280 [==============================] - 1s 623us/step - loss: 0.0189 - accuracy: 0.9961 - val_loss: 1.3501 - val_accuracy: 0.8375\n",
            "Epoch 86/100\n",
            "1280/1280 [==============================] - 1s 613us/step - loss: 0.0177 - accuracy: 0.9961 - val_loss: 1.4027 - val_accuracy: 0.8219\n",
            "Epoch 87/100\n",
            "1280/1280 [==============================] - 1s 616us/step - loss: 0.0089 - accuracy: 0.9969 - val_loss: 1.4665 - val_accuracy: 0.8125\n",
            "Epoch 88/100\n",
            "1280/1280 [==============================] - 1s 618us/step - loss: 0.0058 - accuracy: 0.9969 - val_loss: 1.4159 - val_accuracy: 0.8281\n",
            "Epoch 89/100\n",
            "1280/1280 [==============================] - 1s 619us/step - loss: 0.0042 - accuracy: 0.9992 - val_loss: 1.4653 - val_accuracy: 0.8250\n",
            "Epoch 90/100\n",
            "1280/1280 [==============================] - 1s 619us/step - loss: 0.0027 - accuracy: 0.9992 - val_loss: 1.4900 - val_accuracy: 0.8219\n",
            "Epoch 91/100\n",
            "1280/1280 [==============================] - 1s 620us/step - loss: 0.0016 - accuracy: 1.0000 - val_loss: 1.5148 - val_accuracy: 0.8250\n",
            "Epoch 92/100\n",
            "1280/1280 [==============================] - 1s 617us/step - loss: 0.0016 - accuracy: 1.0000 - val_loss: 1.5498 - val_accuracy: 0.8188\n",
            "Epoch 93/100\n",
            "1280/1280 [==============================] - 1s 618us/step - loss: 0.0012 - accuracy: 1.0000 - val_loss: 1.5161 - val_accuracy: 0.8313\n",
            "Epoch 94/100\n",
            "1280/1280 [==============================] - 1s 613us/step - loss: 0.0031 - accuracy: 0.9992 - val_loss: 1.4497 - val_accuracy: 0.8406\n",
            "Epoch 95/100\n",
            "1280/1280 [==============================] - 1s 612us/step - loss: 0.0012 - accuracy: 1.0000 - val_loss: 1.5113 - val_accuracy: 0.8281\n",
            "Epoch 96/100\n",
            "1280/1280 [==============================] - 1s 625us/step - loss: 0.0122 - accuracy: 0.9992 - val_loss: 1.4795 - val_accuracy: 0.8250\n",
            "Epoch 97/100\n",
            "1280/1280 [==============================] - 1s 612us/step - loss: 0.0031 - accuracy: 0.9984 - val_loss: 1.6686 - val_accuracy: 0.8031\n",
            "Epoch 98/100\n",
            "1280/1280 [==============================] - 1s 623us/step - loss: 0.0091 - accuracy: 0.9977 - val_loss: 1.6664 - val_accuracy: 0.8156\n",
            "Epoch 99/100\n",
            "1280/1280 [==============================] - 1s 610us/step - loss: 0.0026 - accuracy: 0.9984 - val_loss: 1.6106 - val_accuracy: 0.8156\n",
            "Epoch 100/100\n",
            "1280/1280 [==============================] - 1s 622us/step - loss: 0.0023 - accuracy: 0.9992 - val_loss: 1.6540 - val_accuracy: 0.8125\n"
          ],
          "name": "stdout"
        }
      ]
    },
    {
      "cell_type": "code",
      "metadata": {
        "scrolled": true,
        "id": "kwsDR0qYg_5H",
        "colab_type": "code",
        "outputId": "f08d3d28-6ec1-46de-9b62-9575cff119e1",
        "colab": {
          "base_uri": "https://localhost:8080/",
          "height": 350
        }
      },
      "source": [
        "# Plot loss and accuracy versus training epochs\n",
        "def plot_model(history):\n",
        "    tr_loss = history.history['loss']\n",
        "    tr_accuracy = history.history['accuracy']\n",
        "\n",
        "    val_loss = history.history['val_loss']\n",
        "    val_accuracy = history.history['val_accuracy']\n",
        "\n",
        "    epochs = range(1, len(tr_loss)+1)\n",
        "\n",
        "    plt.figure(figsize=(10, 5))\n",
        "    plt.subplot(1,2,1)\n",
        "    plt.plot(epochs, tr_loss,'r')\n",
        "    plt.plot(epochs, val_loss,'b')\n",
        "    plt.title('Model loss')\n",
        "    plt.ylabel('Loss')\n",
        "    plt.xlabel('Epoch')\n",
        "    plt.legend(['Training', 'Validation'], loc='best')\n",
        "\n",
        "    plt.subplot(1,2,2)\n",
        "    plt.plot(epochs, tr_accuracy,'r')\n",
        "    plt.plot(epochs, val_accuracy,'b')\n",
        "    plt.title('Model Accuracy')\n",
        "    plt.ylabel('Accuracy')\n",
        "    plt.xlabel('Epoch')\n",
        "    plt.legend(['Training', 'Validation'], loc='best')\n",
        "    plt.show()\n",
        "    \n",
        "plot_model(history)"
      ],
      "execution_count": 0,
      "outputs": [
        {
          "output_type": "display_data",
          "data": {
            "image/png": "[encoded data removed]",
            "text/plain": [
              "<Figure size 720x360 with 2 Axes>"
            ]
          },
          "metadata": {
            "tags": [],
            "needs_background": "light"
          }
        }
      ]
    },
    {
      "cell_type": "code",
      "metadata": {
        "id": "6O1Ko6jGg_5K",
        "colab_type": "code",
        "outputId": "ab4a778a-637b-4efe-e1fd-e2dd31ad3ce6",
        "colab": {
          "base_uri": "https://localhost:8080/",
          "height": 52
        }
      },
      "source": [
        "# Evaluate your model over test set\n",
        "score, acc = model.evaluate(X_time_test, y_time_test, verbose=0)\n",
        "print('Test score:', score)\n",
        "print('Test accuracy:', acc)"
      ],
      "execution_count": 0,
      "outputs": [
        {
          "output_type": "stream",
          "text": [
            "Test score: 1.7858464813232422\n",
            "Test accuracy: 0.8299999833106995\n"
          ],
          "name": "stdout"
        }
      ]
    },
    {
      "cell_type": "markdown",
      "metadata": {
        "id": "xzPxcO9ig_5N",
        "colab_type": "text"
      },
      "source": [
        "## Time-Frequency Domain Model <a id='time_freq_model'></a>"
      ]
    },
    {
      "cell_type": "code",
      "metadata": {
        "id": "6G1U3Tgdg_5Q",
        "colab_type": "code",
        "colab": {}
      },
      "source": [
        "X, y = [], []\n",
        "\n",
        "for audio_file in audio_files:\n",
        "    \n",
        "    audio, sr = librosa.load(audio_path +'/'+ audio_file, sr = None)\n",
        "    \n",
        "    X1 = padOrClip(audio, int(audio_duration_sec*sr))\n",
        "    spectrogram = np.abs(librosa.stft(X1))\n",
        "\n",
        "    digit = audio_file.split('_')[0]\n",
        "    label = audio_file.split('_')[1]\n",
        "    \n",
        "    X.append(spectrogram)\n",
        "    y.append(label)\n",
        "    \n",
        "X = np.asarray(X)\n",
        "y = np.asarray(y)"
      ],
      "execution_count": 0,
      "outputs": []
    },
    {
      "cell_type": "code",
      "metadata": {
        "id": "2hhOQalMl_VK",
        "colab_type": "code",
        "colab": {}
      },
      "source": [
        "from sklearn.model_selection import train_test_split\n",
        "X_freq_train, X_freq_test, y_freq_trn_label, y_freq_tst_label = train_test_split(X,y, test_size=0.2, random_state=123, stratify=y)"
      ],
      "execution_count": 0,
      "outputs": []
    },
    {
      "cell_type": "code",
      "metadata": {
        "id": "GK_PFsWpg_5T",
        "colab_type": "code",
        "outputId": "9eac7569-22c1-4c71-90df-fdcbd287a082",
        "colab": {
          "base_uri": "https://localhost:8080/",
          "height": 52
        }
      },
      "source": [
        "X_train = X_freq_train.reshape(-1, X_freq_train.shape[1], X_freq_train.shape[2], 1)\n",
        "X_test = X_freq_test.reshape(-1, X_freq_test.shape[1], X_freq_test.shape[2], 1)\n",
        "\n",
        "print('X_train shape:', X_train.shape)\n",
        "print('X_test shape:', X_test.shape)"
      ],
      "execution_count": 0,
      "outputs": [
        {
          "output_type": "stream",
          "text": [
            "X_train shape: (1600, 1025, 16, 1)\n",
            "X_test shape: (400, 1025, 16, 1)\n"
          ],
          "name": "stdout"
        }
      ]
    },
    {
      "cell_type": "code",
      "metadata": {
        "id": "UK64NMUHnD_3",
        "colab_type": "code",
        "outputId": "63f87412-3e44-4662-c6fd-aebaefa461f7",
        "colab": {
          "base_uri": "https://localhost:8080/",
          "height": 34
        }
      },
      "source": [
        "from sklearn.preprocessing import LabelEncoder\n",
        "out_encoder = LabelEncoder()\n",
        "out_encoder.fit(y_freq_trn_label)\n",
        "y_train = out_encoder.transform(y_freq_trn_label)\n",
        "y_test = out_encoder.transform(y_freq_tst_label)\n",
        "\n",
        "print(out_encoder.classes_)"
      ],
      "execution_count": 0,
      "outputs": [
        {
          "output_type": "stream",
          "text": [
            "['jackson' 'nicolas' 'theo' 'yweweler']\n"
          ],
          "name": "stdout"
        }
      ]
    },
    {
      "cell_type": "code",
      "metadata": {
        "id": "lNBsaXL9g_5W",
        "colab_type": "code",
        "outputId": "b1466345-d33a-4b82-a0de-58322a138982",
        "colab": {
          "base_uri": "https://localhost:8080/",
          "height": 52
        }
      },
      "source": [
        "y_train = to_categorical(y_train)\n",
        "y_test = to_categorical(y_test)\n",
        "\n",
        "print('y_train shape:', y_train.shape)\n",
        "print('y_test shape:', y_test.shape)"
      ],
      "execution_count": 0,
      "outputs": [
        {
          "output_type": "stream",
          "text": [
            "y_train shape: (1600, 4)\n",
            "y_test shape: (400, 4)\n"
          ],
          "name": "stdout"
        }
      ]
    },
    {
      "cell_type": "code",
      "metadata": {
        "id": "ceJJlO0tg_5c",
        "colab_type": "code",
        "outputId": "a4053595-22e7-4d11-f0a7-bf4d34c46959",
        "colab": {
          "base_uri": "https://localhost:8080/",
          "height": 514
        }
      },
      "source": [
        "# Create your model\n",
        "from keras.layers import Conv2D, MaxPooling2D, Flatten\n",
        "\n",
        "model = Sequential()\n",
        "model.add(Conv2D(32, kernel_size=(3, 3), strides=1, activation='relu', input_shape= X_train[0].shape))\n",
        "model.add(MaxPooling2D(pool_size=(2, 2)))\n",
        "model.add(Dropout(0.25))\n",
        "\n",
        "model.add(Conv2D(64, (3, 3), activation='relu'))\n",
        "model.add(MaxPooling2D(pool_size=(2, 2)))\n",
        "model.add(Dropout(0.25))\n",
        "\n",
        "model.add(Flatten())\n",
        "\n",
        "model.add(Dense(128, activation='relu'))\n",
        "model.add(Dropout(0.5))\n",
        "\n",
        "model.add(Dense(4, activation='softmax'))\n",
        "\n",
        "model.summary()\n"
      ],
      "execution_count": 0,
      "outputs": [
        {
          "output_type": "stream",
          "text": [
            "Model: \"sequential_8\"\n",
            "_________________________________________________________________\n",
            "Layer (type)                 Output Shape              Param #   \n",
            "=================================================================\n",
            "conv2d_5 (Conv2D)            (None, 1023, 14, 32)      320       \n",
            "_________________________________________________________________\n",
            "max_pooling2d_5 (MaxPooling2 (None, 511, 7, 32)        0         \n",
            "_________________________________________________________________\n",
            "dropout_19 (Dropout)         (None, 511, 7, 32)        0         \n",
            "_________________________________________________________________\n",
            "conv2d_6 (Conv2D)            (None, 509, 5, 64)        18496     \n",
            "_________________________________________________________________\n",
            "max_pooling2d_6 (MaxPooling2 (None, 254, 2, 64)        0         \n",
            "_________________________________________________________________\n",
            "dropout_20 (Dropout)         (None, 254, 2, 64)        0         \n",
            "_________________________________________________________________\n",
            "flatten_3 (Flatten)          (None, 32512)             0         \n",
            "_________________________________________________________________\n",
            "dense_21 (Dense)             (None, 128)               4161664   \n",
            "_________________________________________________________________\n",
            "dropout_21 (Dropout)         (None, 128)               0         \n",
            "_________________________________________________________________\n",
            "dense_22 (Dense)             (None, 4)                 516       \n",
            "=================================================================\n",
            "Total params: 4,180,996\n",
            "Trainable params: 4,180,996\n",
            "Non-trainable params: 0\n",
            "_________________________________________________________________\n"
          ],
          "name": "stdout"
        }
      ]
    },
    {
      "cell_type": "code",
      "metadata": {
        "id": "2TuUhNu8g_5h",
        "colab_type": "code",
        "outputId": "5274b536-ea1f-4e54-dcce-670ef3aa698f",
        "colab": {
          "base_uri": "https://localhost:8080/",
          "height": 390
        }
      },
      "source": [
        "# Compile the model\n",
        "model.compile(loss= 'categorical_crossentropy',\n",
        "              optimizer= 'adam',\n",
        "              metrics= ['accuracy'])\n",
        "\n",
        "# Fit the model\n",
        "history = model.fit(X_train, y_train,\n",
        "          epochs= 10,\n",
        "          batch_size= 64,\n",
        "          validation_split = 0.2,\n",
        "          shuffle = True,\n",
        "          verbose = 1)"
      ],
      "execution_count": 0,
      "outputs": [
        {
          "output_type": "stream",
          "text": [
            "Train on 1280 samples, validate on 320 samples\n",
            "Epoch 1/10\n",
            "1280/1280 [==============================] - 21s 16ms/step - loss: 1.0239 - accuracy: 0.5523 - val_loss: 0.7232 - val_accuracy: 0.9125\n",
            "Epoch 2/10\n",
            "1280/1280 [==============================] - 21s 16ms/step - loss: 0.4867 - accuracy: 0.8219 - val_loss: 0.3123 - val_accuracy: 0.9438\n",
            "Epoch 3/10\n",
            "1280/1280 [==============================] - 21s 16ms/step - loss: 0.2653 - accuracy: 0.9055 - val_loss: 0.2840 - val_accuracy: 0.9688\n",
            "Epoch 4/10\n",
            "1280/1280 [==============================] - 21s 16ms/step - loss: 0.1662 - accuracy: 0.9484 - val_loss: 0.1484 - val_accuracy: 0.9781\n",
            "Epoch 5/10\n",
            "1280/1280 [==============================] - 21s 16ms/step - loss: 0.1003 - accuracy: 0.9742 - val_loss: 0.0985 - val_accuracy: 0.9656\n",
            "Epoch 6/10\n",
            "1280/1280 [==============================] - 21s 17ms/step - loss: 0.1035 - accuracy: 0.9641 - val_loss: 0.0501 - val_accuracy: 0.9906\n",
            "Epoch 7/10\n",
            "1280/1280 [==============================] - 21s 16ms/step - loss: 0.0718 - accuracy: 0.9805 - val_loss: 0.1169 - val_accuracy: 0.9875\n",
            "Epoch 8/10\n",
            "1280/1280 [==============================] - 21s 16ms/step - loss: 0.0683 - accuracy: 0.9828 - val_loss: 0.0618 - val_accuracy: 0.9875\n",
            "Epoch 9/10\n",
            "1280/1280 [==============================] - 21s 16ms/step - loss: 0.0661 - accuracy: 0.9891 - val_loss: 0.0705 - val_accuracy: 0.9812\n",
            "Epoch 10/10\n",
            "1280/1280 [==============================] - 21s 16ms/step - loss: 0.0461 - accuracy: 0.9875 - val_loss: 0.0902 - val_accuracy: 0.9812\n"
          ],
          "name": "stdout"
        }
      ]
    },
    {
      "cell_type": "code",
      "metadata": {
        "id": "zSmF-rwDg_5j",
        "colab_type": "code",
        "outputId": "e2202f55-5d06-466e-e0a0-6c2e3b64c676",
        "colab": {
          "base_uri": "https://localhost:8080/",
          "height": 350
        }
      },
      "source": [
        "plot_model(history)"
      ],
      "execution_count": 0,
      "outputs": [
        {
          "output_type": "display_data",
          "data": {
            "image/png": "[encoded data removed]",
            "text/plain": [
              "<Figure size 720x360 with 2 Axes>"
            ]
          },
          "metadata": {
            "tags": [],
            "needs_background": "light"
          }
        }
      ]
    },
    {
      "cell_type": "code",
      "metadata": {
        "id": "zjiFbXu3g_5l",
        "colab_type": "code",
        "outputId": "04c1ff03-7a57-4908-a950-17fd7d7566eb",
        "colab": {
          "base_uri": "https://localhost:8080/",
          "height": 52
        }
      },
      "source": [
        "score, acc = model.evaluate(X_test, y_test, verbose=0)\n",
        "print('Test score:', score)\n",
        "print('Test accuracy:', acc)"
      ],
      "execution_count": 0,
      "outputs": [
        {
          "output_type": "stream",
          "text": [
            "Test score: 0.03407674044370651\n",
            "Test accuracy: 0.9900000095367432\n"
          ],
          "name": "stdout"
        }
      ]
    }
  ]
}